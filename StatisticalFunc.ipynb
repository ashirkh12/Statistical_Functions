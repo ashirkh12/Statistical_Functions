{
 "cells": [
  {
   "cell_type": "code",
   "execution_count": 1,
   "id": "d7dea0cb",
   "metadata": {},
   "outputs": [],
   "source": [
    "import statistics as stat"
   ]
  },
  {
   "cell_type": "code",
   "execution_count": 3,
   "id": "de77d820",
   "metadata": {},
   "outputs": [
    {
     "data": {
      "text/plain": [
       "185.3"
      ]
     },
     "execution_count": 3,
     "metadata": {},
     "output_type": "execute_result"
    }
   ],
   "source": [
    "stat.mean([100,124,132,138,132,112,142,140,108,130,130,148,178,140,120,129,120,160,138,120,110,180,150,140,110,130,120,130,120,105,\n",
    "248,255,207,223,288,160,226,394,233,315,246,244,270,195,240,196,211,234,236,244,254,325,126,313,211,262,215,214,193,204])"
   ]
  },
  {
   "cell_type": "code",
   "execution_count": 5,
   "id": "cf0e4aae",
   "metadata": {},
   "outputs": [
    {
     "data": {
      "text/plain": [
       "169.0"
      ]
     },
     "execution_count": 5,
     "metadata": {},
     "output_type": "execute_result"
    }
   ],
   "source": [
    "stat.median([100,124,132,138,132,112,142,140,108,130,130,148,178,140,120,129,120,160,138,120,110,180,150,140,110,130,120,130,120,105,\n",
    "248,255,207,223,288,160,226,394,233,315,246,244,270,195,240,196,211,234,236,244,254,325,126,313,211,262,215,214,193,204])"
   ]
  },
  {
   "cell_type": "code",
   "execution_count": 6,
   "id": "31b3a2a7",
   "metadata": {},
   "outputs": [
    {
     "data": {
      "text/plain": [
       "160"
      ]
     },
     "execution_count": 6,
     "metadata": {},
     "output_type": "execute_result"
    }
   ],
   "source": [
    "stat.median_low([100,124,132,138,132,112,142,140,108,130,130,148,178,140,120,129,120,160,138,120,110,180,150,140,110,130,120,130,120,105,\n",
    "248,255,207,223,288,160,226,394,233,315,246,244,270,195,240,196,211,234,236,244,254,325,126,313,211,262,215,214,193,204])"
   ]
  },
  {
   "cell_type": "code",
   "execution_count": 7,
   "id": "329d2425",
   "metadata": {},
   "outputs": [
    {
     "data": {
      "text/plain": [
       "178"
      ]
     },
     "execution_count": 7,
     "metadata": {},
     "output_type": "execute_result"
    }
   ],
   "source": [
    "stat.median_high([100,124,132,138,132,112,142,140,108,130,130,148,178,140,120,129,120,160,138,120,110,180,150,140,110,130,120,130,120,105,\n",
    "248,255,207,223,288,160,226,394,233,315,246,244,270,195,240,196,211,234,236,244,254,325,126,313,211,262,215,214,193,204])"
   ]
  },
  {
   "cell_type": "code",
   "execution_count": 8,
   "id": "bf5f8545",
   "metadata": {},
   "outputs": [
    {
     "data": {
      "text/plain": [
       "120"
      ]
     },
     "execution_count": 8,
     "metadata": {},
     "output_type": "execute_result"
    }
   ],
   "source": [
    "stat.mode([100,124,132,138,132,112,142,140,108,130,130,148,178,140,120,129,120,160,138,120,110,180,150,140,110,130,120,130,120,105,\n",
    "248,255,207,223,288,160,226,394,233,315,246,244,270,195,240,196,211,234,236,244,254,325,126,313,211,262,215,214,193,204])"
   ]
  },
  {
   "cell_type": "code",
   "execution_count": 9,
   "id": "164ec1c5",
   "metadata": {},
   "outputs": [
    {
     "data": {
      "text/plain": [
       "164.72213877403078"
      ]
     },
     "execution_count": 9,
     "metadata": {},
     "output_type": "execute_result"
    }
   ],
   "source": [
    "stat.harmonic_mean([100,124,132,138,132,112,142,140,108,130,130,148,178,140,120,129,120,160,138,120,110,180,150,140,110,130,120,130,120,105,\n",
    "248,255,207,223,288,160,226,394,233,315,246,244,270,195,240,196,211,234,236,244,254,325,126,313,211,262,215,214,193,204])"
   ]
  },
  {
   "cell_type": "code",
   "execution_count": 10,
   "id": "1e910967",
   "metadata": {},
   "outputs": [
    {
     "data": {
      "text/plain": [
       "66.8781588831004"
      ]
     },
     "execution_count": 10,
     "metadata": {},
     "output_type": "execute_result"
    }
   ],
   "source": [
    "stat.stdev([100,124,132,138,132,112,142,140,108,130,130,148,178,140,120,129,120,160,138,120,110,180,150,140,110,130,120,130,120,105,\n",
    "248,255,207,223,288,160,226,394,233,315,246,244,270,195,240,196,211,234,236,244,254,325,126,313,211,262,215,214,193,204])"
   ]
  },
  {
   "cell_type": "code",
   "execution_count": 11,
   "id": "c47a542d",
   "metadata": {},
   "outputs": [
    {
     "data": {
      "text/plain": [
       "4472.68813559322"
      ]
     },
     "execution_count": 11,
     "metadata": {},
     "output_type": "execute_result"
    }
   ],
   "source": [
    "stat.variance([100,124,132,138,132,112,142,140,108,130,130,148,178,140,120,129,120,160,138,120,110,180,150,140,110,130,120,130,120,105,\n",
    "248,255,207,223,288,160,226,394,233,315,246,244,270,195,240,196,211,234,236,244,254,325,126,313,211,262,215,214,193,204])"
   ]
  },
  {
   "cell_type": "code",
   "execution_count": 2,
   "id": "0234eaac",
   "metadata": {},
   "outputs": [],
   "source": [
    "import numpy"
   ]
  },
  {
   "cell_type": "code",
   "execution_count": 3,
   "id": "689fd516",
   "metadata": {},
   "outputs": [],
   "source": [
    "speed =[100,124,132,138,132,112,142,140,108,130,130,148,178,140,120,129,120,160,138,120,110,180,150,140,110,130,120,130,120,105] "
   ]
  },
  {
   "cell_type": "code",
   "execution_count": 4,
   "id": "a074f413",
   "metadata": {},
   "outputs": [],
   "source": [
    "speed1 =[248,255,207,223,288,160,226,394,233,315,246,244,270,195,240,196,211,234,236,244,254,325,126,313,211,262,215,214,193,204]"
   ]
  },
  {
   "cell_type": "code",
   "execution_count": 5,
   "id": "4805ecfb",
   "metadata": {},
   "outputs": [],
   "source": [
    "x = numpy.mean(speed)\n",
    "y = numpy.mean(speed1)"
   ]
  },
  {
   "cell_type": "code",
   "execution_count": 6,
   "id": "2c4e8b57",
   "metadata": {},
   "outputs": [
    {
     "name": "stdout",
     "output_type": "stream",
     "text": [
      "131.2\n",
      "239.4\n"
     ]
    }
   ],
   "source": [
    "print(x)\n",
    "print(y)"
   ]
  },
  {
   "cell_type": "code",
   "execution_count": 17,
   "id": "7f9c4b97",
   "metadata": {},
   "outputs": [
    {
     "name": "stdout",
     "output_type": "stream",
     "text": [
      "239.4\n"
     ]
    }
   ],
   "source": [
    "print(x)"
   ]
  },
  {
   "cell_type": "code",
   "execution_count": 18,
   "id": "7f29de37",
   "metadata": {},
   "outputs": [
    {
     "name": "stdout",
     "output_type": "stream",
     "text": [
      "239.4\n"
     ]
    }
   ],
   "source": [
    "print(y)"
   ]
  },
  {
   "cell_type": "code",
   "execution_count": 19,
   "id": "7656f2e7",
   "metadata": {},
   "outputs": [],
   "source": [
    "speed =[100,124,132,138,132,112,142,140,108,130,130,148,178,140,120,129,120,160,138,120,110,180,150,140,110,130,120,130,120,105,248,255,207,223,288,160,226,394,233,315,246,244,270,195,240,196,211,234,236,244,254,325,126,313,211,262,215,214,193,204] "
   ]
  },
  {
   "cell_type": "code",
   "execution_count": 20,
   "id": "bb971d33",
   "metadata": {},
   "outputs": [],
   "source": [
    "x=numpy.mean(speed)"
   ]
  },
  {
   "cell_type": "code",
   "execution_count": 21,
   "id": "55e3f483",
   "metadata": {},
   "outputs": [
    {
     "name": "stdout",
     "output_type": "stream",
     "text": [
      "185.3\n"
     ]
    }
   ],
   "source": [
    "print(x)"
   ]
  },
  {
   "cell_type": "code",
   "execution_count": 7,
   "id": "0af30b10",
   "metadata": {},
   "outputs": [],
   "source": [
    "random_speed = numpy.random.randint(low=100,high=500,size=20) "
   ]
  },
  {
   "cell_type": "code",
   "execution_count": 8,
   "id": "d40a03ba",
   "metadata": {},
   "outputs": [
    {
     "name": "stdout",
     "output_type": "stream",
     "text": [
      "[251 433 400 193 436 346 395 219 235 155 289 190 291 496 268 342 414 305\n",
      " 238 455]\n"
     ]
    }
   ],
   "source": [
    "print(random_speed)"
   ]
  },
  {
   "cell_type": "code",
   "execution_count": 9,
   "id": "5ed15f32",
   "metadata": {},
   "outputs": [],
   "source": [
    "random_speed = numpy.random.randint(low=100,high=500,size=(5,5)) "
   ]
  },
  {
   "cell_type": "code",
   "execution_count": 10,
   "id": "447ca3ed",
   "metadata": {},
   "outputs": [
    {
     "name": "stdout",
     "output_type": "stream",
     "text": [
      "[[374 488 111 467 435]\n",
      " [169 157 457 444 321]\n",
      " [412 341 247 385 112]\n",
      " [112 271 325 290 262]\n",
      " [282 281 158 362 447]]\n"
     ]
    }
   ],
   "source": [
    "print(random_speed)"
   ]
  },
  {
   "cell_type": "code",
   "execution_count": null,
   "id": "b9f505e1",
   "metadata": {},
   "outputs": [],
   "source": []
  }
 ],
 "metadata": {
  "kernelspec": {
   "display_name": "Python 3 (ipykernel)",
   "language": "python",
   "name": "python3"
  },
  "language_info": {
   "codemirror_mode": {
    "name": "ipython",
    "version": 3
   },
   "file_extension": ".py",
   "mimetype": "text/x-python",
   "name": "python",
   "nbconvert_exporter": "python",
   "pygments_lexer": "ipython3",
   "version": "3.9.7"
  }
 },
 "nbformat": 4,
 "nbformat_minor": 5
}
